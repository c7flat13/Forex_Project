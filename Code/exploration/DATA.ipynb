{
 "cells": [
  {
   "cell_type": "code",
   "execution_count": 29,
   "id": "d0130b1b",
   "metadata": {},
   "outputs": [],
   "source": [
    "import requests\n",
    "import pandas as pd\n",
    "import json\n",
    "from dateutil import parser"
   ]
  },
  {
   "cell_type": "code",
   "execution_count": 30,
   "id": "78799bb8",
   "metadata": {},
   "outputs": [],
   "source": [
    "API_KEY = \"40ef02d3e09569a679de4cffd812f150-d456dbb8d4d206c87a6b725a6cb847db\"\n",
    "ACCOUNT_ID = \"101-001-25647120-001\"\n",
    "OANDA_URL = \"https://api-fxpractice.oanda.com/v3\""
   ]
  },
  {
   "cell_type": "code",
   "execution_count": 31,
   "id": "2948e745",
   "metadata": {},
   "outputs": [],
   "source": [
    "session = requests.Session()"
   ]
  },
  {
   "cell_type": "code",
   "execution_count": 32,
   "id": "5d296b4f",
   "metadata": {},
   "outputs": [],
   "source": [
    "session.headers.update({\n",
    "    \"Authorization\": f\"Bearer {API_KEY}\",\n",
    "    \"Content-Type\": \"application/json\"\n",
    "})"
   ]
  },
  {
   "cell_type": "code",
   "execution_count": 33,
   "id": "b31c0bd7",
   "metadata": {},
   "outputs": [],
   "source": [
    "params = dict(\n",
    "    count = 10,\n",
    "    granularity = [\"H1\", \"H4\"],\n",
    "    price = \"MBA\"\n",
    ")"
   ]
  },
  {
   "cell_type": "code",
   "execution_count": 34,
   "id": "c9fba1ae",
   "metadata": {},
   "outputs": [],
   "source": [
    "url = f\"{OANDA_URL}/accounts/{ACCOUNT_ID}/instruments\""
   ]
  },
  {
   "cell_type": "code",
   "execution_count": 35,
   "id": "659ac956",
   "metadata": {},
   "outputs": [],
   "source": [
    "response = session.get(url, params=params, data=None, headers=None)"
   ]
  },
  {
   "cell_type": "code",
   "execution_count": 36,
   "id": "456dac04",
   "metadata": {},
   "outputs": [
    {
     "data": {
      "text/plain": [
       "200"
      ]
     },
     "execution_count": 36,
     "metadata": {},
     "output_type": "execute_result"
    }
   ],
   "source": [
    "response.status_code"
   ]
  },
  {
   "cell_type": "code",
   "execution_count": 37,
   "id": "ecbc0a03",
   "metadata": {},
   "outputs": [],
   "source": [
    "data = response.json()"
   ]
  },
  {
   "cell_type": "code",
   "execution_count": 38,
   "id": "e528de89",
   "metadata": {},
   "outputs": [],
   "source": [
    "instruments_list = data['instruments']"
   ]
  },
  {
   "cell_type": "code",
   "execution_count": 39,
   "id": "52404944",
   "metadata": {},
   "outputs": [
    {
     "data": {
      "text/plain": [
       "68"
      ]
     },
     "execution_count": 39,
     "metadata": {},
     "output_type": "execute_result"
    }
   ],
   "source": [
    "len(instruments_list)"
   ]
  },
  {
   "cell_type": "code",
   "execution_count": 40,
   "id": "8c2ef9cd",
   "metadata": {},
   "outputs": [
    {
     "data": {
      "text/plain": [
       "dict_keys(['name', 'type', 'displayName', 'pipLocation', 'displayPrecision', 'tradeUnitsPrecision', 'minimumTradeSize', 'maximumTrailingStopDistance', 'minimumTrailingStopDistance', 'maximumPositionSize', 'maximumOrderUnits', 'marginRate', 'guaranteedStopLossOrderMode', 'tags', 'financing'])"
      ]
     },
     "execution_count": 40,
     "metadata": {},
     "output_type": "execute_result"
    }
   ],
   "source": [
    "instruments_list[0].keys()"
   ]
  },
  {
   "cell_type": "code",
   "execution_count": 41,
   "id": "92bc055b",
   "metadata": {},
   "outputs": [],
   "source": [
    "key_i = ['name', 'type', 'displayName', 'pipLocation', 'displayPrecision', 'tradeUnitsPrecision', 'marginRate'] "
   ]
  },
  {
   "cell_type": "code",
   "execution_count": 42,
   "id": "26ecd805",
   "metadata": {},
   "outputs": [],
   "source": [
    "instruments_dict = {}\n",
    "for i in instruments_list:\n",
    "    key = i['name']\n",
    "    instruments_dict[key] = { k: i[k] for k in key_i }\n",
    "    "
   ]
  },
  {
   "cell_type": "code",
   "execution_count": 43,
   "id": "a8426e14",
   "metadata": {},
   "outputs": [
    {
     "data": {
      "text/plain": [
       "{'name': 'USD_CAD',\n",
       " 'type': 'CURRENCY',\n",
       " 'displayName': 'USD/CAD',\n",
       " 'pipLocation': -4,\n",
       " 'displayPrecision': 5,\n",
       " 'tradeUnitsPrecision': 0,\n",
       " 'marginRate': '0.02'}"
      ]
     },
     "execution_count": 43,
     "metadata": {},
     "output_type": "execute_result"
    }
   ],
   "source": [
    "instruments_dict['USD_CAD']"
   ]
  },
  {
   "cell_type": "code",
   "execution_count": 44,
   "id": "54019a29",
   "metadata": {},
   "outputs": [],
   "source": [
    "with open(\"../data/instruments.json\", \"w\") as f:\n",
    "    f.write(json.dumps(instruments_dict, indent=2))"
   ]
  },
  {
   "cell_type": "code",
   "execution_count": 45,
   "id": "2afcdb5e",
   "metadata": {},
   "outputs": [],
   "source": [
    "def fetch_candles(pair_name, count=10, granularity=\"H1\"):\n",
    "    url = f\"{OANDA_URL}/instruments/{pair_name}/candles\"\n",
    "    params = dict(\n",
    "        count = count,\n",
    "        granularity = granularity,\n",
    "        price = \"MBA\"\n",
    "    )\n",
    "    response = session.get(url, params=params, data=None, headers=None)\n",
    "    data = response.json()\n",
    "    \n",
    "    if response.status_code == 200:\n",
    "        if 'candles' not in data:\n",
    "            data = []\n",
    "        else:\n",
    "            data = data['candles']\n",
    "    return response.status_code, data\n",
    "\n",
    "def get_candles_df(data):\n",
    "    if len(data) == 0:\n",
    "        return pd.DataFrame()\n",
    "    \n",
    "    prices = ['mid', 'bid', 'ask']\n",
    "    ohlc = ['o', 'h', 'l', 'c']\n",
    "\n",
    "    final_data = []\n",
    "    for candle in data:\n",
    "        if candle['complete'] == False:\n",
    "            continue\n",
    "        new_dict = {}\n",
    "        new_dict['time'] = parser.parse(candle['time'])\n",
    "        new_dict['volume'] = candle['volume']\n",
    "        for p in prices:\n",
    "            for o in ohlc:\n",
    "                new_dict[f\"{p}_{o}\"] = float(candle[p][o]) \n",
    "        final_data.append(new_dict)\n",
    "    df = pd.DataFrame.from_dict(final_data)\n",
    "    return df\n",
    "\n",
    "def create_data_file(pair_name, count=10, granularity=[\"H1\", \"H4\"]):\n",
    "    code, data = fetch_candles(pair_name, count, granularity)\n",
    "    if code != 200:\n",
    "        print(\"Failed\", pair_name, data)\n",
    "        return\n",
    "    if len(data) == 0:\n",
    "        print(\"No Candles\", pair_name)\n",
    "    candles_df = get_candles_df(data)\n",
    "    candles_df.to_pickle(f\"../data/{pair_name}_{granularity}.pkl\")\n",
    "    print(f\"{pair_name} {granularity} {candles_df.shape[0]} candles, {candles_df.time.min()} {candles_df.time.max()}\")\n",
    "    "
   ]
  },
  {
   "cell_type": "code",
   "execution_count": 46,
   "id": "49081eb4",
   "metadata": {},
   "outputs": [],
   "source": [
    "code, data = fetch_candles(\"EUR_USD\", count=10, granularity=\"H4\")\n",
    "candles_df = get_candles_df(data)"
   ]
  },
  {
   "cell_type": "code",
   "execution_count": 47,
   "id": "58704806",
   "metadata": {},
   "outputs": [
    {
     "name": "stdout",
     "output_type": "stream",
     "text": [
      "EUR_USD H4 10 candles, 2023-05-04 05:00:00+00:00 2023-05-05 17:00:00+00:00\n"
     ]
    }
   ],
   "source": [
    "create_data_file(\"EUR_USD\", count=10, granularity=\"H4\")"
   ]
  },
  {
   "cell_type": "code",
   "execution_count": 48,
   "id": "1a15e31f",
   "metadata": {},
   "outputs": [],
   "source": [
    "our_curr = ['EUR', 'USD', 'GBP', 'JPY', 'CHF', 'NZD', 'CAD', 'AUD']"
   ]
  },
  {
   "cell_type": "code",
   "execution_count": 51,
   "id": "fba4c256",
   "metadata": {},
   "outputs": [
    {
     "name": "stdout",
     "output_type": "stream",
     "text": [
      "EUR_USD H1 4001 candles, 2022-09-14 03:00:00+00:00 2023-05-05 20:00:00+00:00\n",
      "EUR_USD H2 4001 candles, 2022-01-24 10:00:00+00:00 2023-05-05 19:00:00+00:00\n",
      "EUR_USD H4 4001 candles, 2020-10-12 01:00:00+00:00 2023-05-05 17:00:00+00:00\n",
      "EUR_GBP H1 4001 candles, 2022-09-14 03:00:00+00:00 2023-05-05 20:00:00+00:00\n",
      "EUR_GBP H2 4001 candles, 2022-01-24 08:00:00+00:00 2023-05-05 19:00:00+00:00\n",
      "EUR_GBP H4 4001 candles, 2020-10-12 01:00:00+00:00 2023-05-05 17:00:00+00:00\n",
      "EUR_JPY H1 4001 candles, 2022-09-14 03:00:00+00:00 2023-05-05 20:00:00+00:00\n",
      "EUR_JPY H2 4001 candles, 2022-01-24 00:00:00+00:00 2023-05-05 19:00:00+00:00\n",
      "EUR_JPY H4 4001 candles, 2020-10-09 17:00:00+00:00 2023-05-05 17:00:00+00:00\n",
      "EUR_CHF H1 4001 candles, 2022-09-14 03:00:00+00:00 2023-05-05 20:00:00+00:00\n",
      "EUR_CHF H2 4001 candles, 2022-01-24 10:00:00+00:00 2023-05-05 19:00:00+00:00\n",
      "EUR_CHF H4 4001 candles, 2020-10-12 01:00:00+00:00 2023-05-05 17:00:00+00:00\n",
      "EUR_NZD H1 4001 candles, 2022-09-14 03:00:00+00:00 2023-05-05 20:00:00+00:00\n",
      "EUR_NZD H2 4001 candles, 2022-01-24 10:00:00+00:00 2023-05-05 19:00:00+00:00\n",
      "EUR_NZD H4 4001 candles, 2020-10-12 01:00:00+00:00 2023-05-05 17:00:00+00:00\n",
      "EUR_CAD H1 4001 candles, 2022-09-14 03:00:00+00:00 2023-05-05 20:00:00+00:00\n",
      "EUR_CAD H2 4001 candles, 2022-01-24 10:00:00+00:00 2023-05-05 19:00:00+00:00\n",
      "EUR_CAD H4 4001 candles, 2020-10-12 01:00:00+00:00 2023-05-05 17:00:00+00:00\n",
      "EUR_AUD H1 4001 candles, 2022-09-14 02:00:00+00:00 2023-05-05 20:00:00+00:00\n",
      "EUR_AUD H2 4001 candles, 2022-01-24 08:00:00+00:00 2023-05-05 19:00:00+00:00\n",
      "EUR_AUD H4 4001 candles, 2020-10-12 01:00:00+00:00 2023-05-05 17:00:00+00:00\n",
      "USD_JPY H1 4001 candles, 2022-09-14 03:00:00+00:00 2023-05-05 20:00:00+00:00\n",
      "USD_JPY H2 4001 candles, 2022-01-24 10:00:00+00:00 2023-05-05 19:00:00+00:00\n",
      "USD_JPY H4 4001 candles, 2020-10-12 05:00:00+00:00 2023-05-05 17:00:00+00:00\n",
      "USD_CHF H1 4001 candles, 2022-09-14 03:00:00+00:00 2023-05-05 20:00:00+00:00\n",
      "USD_CHF H2 4001 candles, 2022-01-24 06:00:00+00:00 2023-05-05 19:00:00+00:00\n",
      "USD_CHF H4 4001 candles, 2020-10-12 01:00:00+00:00 2023-05-05 17:00:00+00:00\n",
      "USD_CAD H1 4001 candles, 2022-09-14 03:00:00+00:00 2023-05-05 20:00:00+00:00\n",
      "USD_CAD H2 4001 candles, 2022-01-24 10:00:00+00:00 2023-05-05 19:00:00+00:00\n",
      "USD_CAD H4 4001 candles, 2020-10-12 01:00:00+00:00 2023-05-05 17:00:00+00:00\n",
      "GBP_USD H1 4001 candles, 2022-09-14 03:00:00+00:00 2023-05-05 20:00:00+00:00\n",
      "GBP_USD H2 4001 candles, 2022-01-24 10:00:00+00:00 2023-05-05 19:00:00+00:00\n",
      "GBP_USD H4 4001 candles, 2020-10-12 01:00:00+00:00 2023-05-05 17:00:00+00:00\n",
      "GBP_JPY H1 4001 candles, 2022-09-14 03:00:00+00:00 2023-05-05 20:00:00+00:00\n",
      "GBP_JPY H2 4001 candles, 2022-01-24 10:00:00+00:00 2023-05-05 19:00:00+00:00\n",
      "GBP_JPY H4 4001 candles, 2020-10-12 01:00:00+00:00 2023-05-05 17:00:00+00:00\n",
      "GBP_CHF H1 4001 candles, 2022-09-14 03:00:00+00:00 2023-05-05 20:00:00+00:00\n",
      "GBP_CHF H2 4001 candles, 2022-01-24 10:00:00+00:00 2023-05-05 19:00:00+00:00\n",
      "GBP_CHF H4 4001 candles, 2020-10-12 01:00:00+00:00 2023-05-05 17:00:00+00:00\n",
      "GBP_NZD H1 4001 candles, 2022-09-14 03:00:00+00:00 2023-05-05 20:00:00+00:00\n",
      "GBP_NZD H2 4001 candles, 2022-01-24 10:00:00+00:00 2023-05-05 19:00:00+00:00\n",
      "GBP_NZD H4 4001 candles, 2020-10-12 01:00:00+00:00 2023-05-05 17:00:00+00:00\n",
      "GBP_CAD H1 4001 candles, 2022-09-14 03:00:00+00:00 2023-05-05 20:00:00+00:00\n",
      "GBP_CAD H2 4001 candles, 2022-01-24 10:00:00+00:00 2023-05-05 19:00:00+00:00\n",
      "GBP_CAD H4 4001 candles, 2020-10-12 01:00:00+00:00 2023-05-05 17:00:00+00:00\n",
      "GBP_AUD H1 4001 candles, 2022-09-14 02:00:00+00:00 2023-05-05 20:00:00+00:00\n",
      "GBP_AUD H2 4001 candles, 2022-01-24 10:00:00+00:00 2023-05-05 19:00:00+00:00\n",
      "GBP_AUD H4 4001 candles, 2020-10-12 01:00:00+00:00 2023-05-05 17:00:00+00:00\n",
      "CHF_JPY H1 4001 candles, 2022-09-14 03:00:00+00:00 2023-05-05 20:00:00+00:00\n",
      "CHF_JPY H2 4001 candles, 2022-01-24 10:00:00+00:00 2023-05-05 19:00:00+00:00\n",
      "CHF_JPY H4 4001 candles, 2020-10-12 01:00:00+00:00 2023-05-05 17:00:00+00:00\n",
      "NZD_USD H1 4001 candles, 2022-09-14 06:00:00+00:00 2023-05-05 20:00:00+00:00\n",
      "NZD_USD H2 4001 candles, 2022-01-24 10:00:00+00:00 2023-05-05 19:00:00+00:00\n",
      "NZD_USD H4 4001 candles, 2020-10-12 09:00:00+00:00 2023-05-05 17:00:00+00:00\n",
      "NZD_JPY H1 4001 candles, 2022-09-14 03:00:00+00:00 2023-05-05 20:00:00+00:00\n",
      "NZD_JPY H2 4001 candles, 2022-01-24 10:00:00+00:00 2023-05-05 19:00:00+00:00\n",
      "NZD_JPY H4 4001 candles, 2020-10-12 05:00:00+00:00 2023-05-05 17:00:00+00:00\n",
      "NZD_CHF H1 4001 candles, 2022-09-14 03:00:00+00:00 2023-05-05 20:00:00+00:00\n",
      "NZD_CHF H2 4001 candles, 2022-01-24 04:00:00+00:00 2023-05-05 19:00:00+00:00\n",
      "NZD_CHF H4 4001 candles, 2020-10-11 21:00:00+00:00 2023-05-05 17:00:00+00:00\n",
      "NZD_CAD H1 4001 candles, 2022-09-14 03:00:00+00:00 2023-05-05 20:00:00+00:00\n",
      "NZD_CAD H2 4001 candles, 2022-01-24 10:00:00+00:00 2023-05-05 19:00:00+00:00\n",
      "NZD_CAD H4 4001 candles, 2020-10-12 01:00:00+00:00 2023-05-05 17:00:00+00:00\n",
      "CAD_JPY H1 4001 candles, 2022-09-14 03:00:00+00:00 2023-05-05 20:00:00+00:00\n",
      "CAD_JPY H2 4001 candles, 2022-01-24 10:00:00+00:00 2023-05-05 19:00:00+00:00\n",
      "CAD_JPY H4 4001 candles, 2020-10-12 01:00:00+00:00 2023-05-05 17:00:00+00:00\n",
      "CAD_CHF H1 4001 candles, 2022-09-14 03:00:00+00:00 2023-05-05 20:00:00+00:00\n",
      "CAD_CHF H2 4001 candles, 2022-01-24 10:00:00+00:00 2023-05-05 19:00:00+00:00\n",
      "CAD_CHF H4 4001 candles, 2020-10-12 01:00:00+00:00 2023-05-05 17:00:00+00:00\n",
      "AUD_USD H1 4001 candles, 2022-09-14 03:00:00+00:00 2023-05-05 20:00:00+00:00\n",
      "AUD_USD H2 4001 candles, 2022-01-24 06:00:00+00:00 2023-05-05 19:00:00+00:00\n",
      "AUD_USD H4 4001 candles, 2020-10-12 01:00:00+00:00 2023-05-05 17:00:00+00:00\n",
      "AUD_JPY H1 4001 candles, 2022-09-14 03:00:00+00:00 2023-05-05 20:00:00+00:00\n",
      "AUD_JPY H2 4001 candles, 2022-01-24 22:00:00+00:00 2023-05-05 19:00:00+00:00\n",
      "AUD_JPY H4 4001 candles, 2020-10-13 01:00:00+00:00 2023-05-05 17:00:00+00:00\n",
      "AUD_CHF H1 4001 candles, 2022-09-14 03:00:00+00:00 2023-05-05 20:00:00+00:00\n",
      "AUD_CHF H2 4001 candles, 2022-01-24 04:00:00+00:00 2023-05-05 19:00:00+00:00\n",
      "AUD_CHF H4 4001 candles, 2020-10-11 21:00:00+00:00 2023-05-05 17:00:00+00:00\n",
      "AUD_NZD H1 4001 candles, 2022-09-14 03:00:00+00:00 2023-05-05 20:00:00+00:00\n",
      "AUD_NZD H2 4001 candles, 2022-01-24 04:00:00+00:00 2023-05-05 19:00:00+00:00\n",
      "AUD_NZD H4 4001 candles, 2020-10-11 21:00:00+00:00 2023-05-05 17:00:00+00:00\n",
      "AUD_CAD H1 4001 candles, 2022-09-14 03:00:00+00:00 2023-05-05 20:00:00+00:00\n",
      "AUD_CAD H2 4001 candles, 2022-01-24 10:00:00+00:00 2023-05-05 19:00:00+00:00\n",
      "AUD_CAD H4 4001 candles, 2020-10-12 01:00:00+00:00 2023-05-05 17:00:00+00:00\n"
     ]
    }
   ],
   "source": [
    "for p1 in our_curr:\n",
    "    for p2 in our_curr:\n",
    "        pr = f\"{p1}_{p2}\"\n",
    "        if pr in instruments_dict:\n",
    "            for g in [\"H1\", \"H2\", \"H4\"]:\n",
    "                create_data_file(pr, count=4001, granularity=g)"
   ]
  },
  {
   "cell_type": "code",
   "execution_count": null,
   "id": "8e5d1d70",
   "metadata": {},
   "outputs": [],
   "source": []
  }
 ],
 "metadata": {
  "kernelspec": {
   "display_name": "Python 3 (ipykernel)",
   "language": "python",
   "name": "python3"
  },
  "language_info": {
   "codemirror_mode": {
    "name": "ipython",
    "version": 3
   },
   "file_extension": ".py",
   "mimetype": "text/x-python",
   "name": "python",
   "nbconvert_exporter": "python",
   "pygments_lexer": "ipython3",
   "version": "3.10.6"
  }
 },
 "nbformat": 4,
 "nbformat_minor": 5
}
